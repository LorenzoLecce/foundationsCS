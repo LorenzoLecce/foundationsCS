{
 "cells": [
  {
   "cell_type": "code",
   "execution_count": 1,
   "metadata": {},
   "outputs": [
    {
     "data": {
      "text/plain": [
       "['./py-11-f1.ipynb',\n",
       " './lecture-py-04-functions-libraries.ipynb',\n",
       " './lecture-py-06-intro-to-pandas.ipynb',\n",
       " './ex-03-books.ipynb',\n",
       " './ex-02-RE-solution-full.ipynb',\n",
       " './ex-05-files.ipynb',\n",
       " './lecture-py-05-files.ipynb',\n",
       " './ex-03-Debug.ipynb',\n",
       " './ex-01-lists.ipynb',\n",
       " './py-09-Apache.ipynb',\n",
       " './ex-02-RE.ipynb',\n",
       " './lecture-py-02-basic-python.ipynb',\n",
       " './lecture-py-08-null-join.ipynb',\n",
       " './lecture-py-07-groupby-apply-idxmax.ipynb',\n",
       " './lecture-py-03-markdown.ipynb',\n",
       " './py-10-happiness.ipynb',\n",
       " './py-08-merging.ipynb',\n",
       " './py-13-employees.ipynb',\n",
       " './lecture-py-10-concat-comprehension.ipynb',\n",
       " './py-12-TED.ipynb',\n",
       " './py-05-groupby.ipynb',\n",
       " './lecture-py-01-basics.ipynb',\n",
       " './py-04-pandas.ipynb',\n",
       " './ex-02-dicts.ipynb',\n",
       " './py-14-fifa-solution.ipynb',\n",
       " './lecture-py-09-zip-datetime-str.ipynb',\n",
       " './py-07-multindex.ipynb']"
      ]
     },
     "execution_count": 1,
     "metadata": {},
     "output_type": "execute_result"
    }
   ],
   "source": [
    "import nbformat as nbf\n",
    "from glob import glob\n",
    "import os\n",
    "import time\n",
    "\n",
    "# Collect a list of all notebooks in the content folder\n",
    "notebooks = glob(\"./*-[0-9][0-9]*.ipynb\")\n",
    "#notebooks = glob(\"./*-01-list*.ipynb\")\n",
    "notebooks"
   ]
  },
  {
   "cell_type": "code",
   "execution_count": 2,
   "metadata": {},
   "outputs": [
    {
     "name": "stdout",
     "output_type": "stream",
     "text": [
      "updating ./py-11-f1.ipynb->../students/./py-11-f1.ipynb\n",
      "    Sun Oct 31 18:30:42 2021 -> Fri Oct 30 12:57:47 2020. True\n",
      "updating ./ex-02-RE-solution-full.ipynb->../students/./ex-02-RE-solution-full.ipynb\n",
      "    Tue Mar  8 08:27:29 2022 -> Thu Oct 29 22:23:39 2020. True\n",
      "updating ./py-09-Apache.ipynb->../students/./py-09-Apache.ipynb\n",
      "    Tue Oct 19 11:14:32 2021 -> Sun Oct 17 09:11:46 2021. True\n",
      "updating ./py-13-employees.ipynb->../students/./py-13-employees.ipynb\n",
      "    Wed Oct 27 10:19:51 2021 -> Fri Oct 30 12:57:47 2020. True\n",
      "updating ./ex-02-dicts.ipynb->../students/./ex-02-dicts.ipynb\n",
      "    Tue Mar  8 08:23:25 2022 -> Thu Oct 29 22:23:39 2020. True\n"
     ]
    }
   ],
   "source": [
    "for ipath in notebooks:\n",
    "    dest_path = \"../students/\" + ipath\n",
    "    if not os.path.exists(dest_path) or os.path.getmtime(ipath) > os.path.getmtime(dest_path):\n",
    "    \n",
    "        print(f\"updating {ipath}->{dest_path}\")\n",
    "        if os.path.exists(dest_path):\n",
    "            print(f\"    {time.ctime(os.path.getmtime(ipath))} -> {time.ctime(os.path.getmtime(dest_path))}. {os.path.getmtime(ipath) > os.path.getmtime(dest_path)}\")\n",
    "        else:\n",
    "            print(\"does not exists\")\n",
    "        ntbk = nbf.read(ipath, nbf.NO_CONVERT)\n",
    "        if 'celltoolbar' in ntbk['metadata']:\n",
    "            del ntbk['metadata']['celltoolbar']\n",
    "\n",
    "        # print(ntbk)\n",
    "\n",
    "        for cell in ntbk.cells:\n",
    "            cell_tags = cell.get('metadata', {}).get('tags', [])\n",
    "            if cell['cell_type'] == 'code':\n",
    "                if 'show_output' not in cell_tags and 'outputs' in cell:\n",
    "                    cell['outputs'] = []\n",
    "                if 'show_output' not in cell_tags and 'show' not in cell_tags:\n",
    "                    cell['source'] = \"\"\n",
    "                else:\n",
    "                    cell = ''\n",
    "            else:\n",
    "                if 'hide' in cell_tags:\n",
    "                    cell['source'] = \"\"\n",
    "\n",
    "\n",
    "        nbf.write(ntbk, dest_path)"
   ]
  },
  {
   "cell_type": "markdown",
   "metadata": {},
   "source": [
    "Look for the tags of each code cell.\n",
    "*  **show** tag means that the content of the cell is shown, but not the result\n",
    "*  **show_output** tag means that the content and the result of the cell are shown"
   ]
  }
 ],
 "metadata": {
  "kernelspec": {
   "display_name": "Python 3 (ipykernel)",
   "language": "python",
   "name": "python3"
  },
  "language_info": {
   "codemirror_mode": {
    "name": "ipython",
    "version": 3
   },
   "file_extension": ".py",
   "mimetype": "text/x-python",
   "name": "python",
   "nbconvert_exporter": "python",
   "pygments_lexer": "ipython3",
   "version": "3.10.2"
  }
 },
 "nbformat": 4,
 "nbformat_minor": 4
}
