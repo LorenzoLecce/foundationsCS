{
 "cells": [
  {
   "cell_type": "code",
   "execution_count": 1,
   "metadata": {},
   "outputs": [],
   "source": [
    "import nbformat as nbf\n",
    "from glob import glob\n",
    "import os\n",
    "import time\n",
    "\n",
    "# Collect a list of all notebooks in the content folder\n",
    "notebooks = glob(\"./*-[0-9][0-9]*.ipynb\")\n",
    "#notebooks = glob(\"./*-01-list*.ipynb\")\n",
    "#notebooks"
   ]
  },
  {
   "cell_type": "code",
   "execution_count": 4,
   "metadata": {},
   "outputs": [
    {
     "name": "stdout",
     "output_type": "stream",
     "text": [
      "updating ./lecture-py-06-intro-to-pandas.ipynb->../students/./py-11-f1.ipynb\n",
      "Mon Oct 11 14:28:12 2021 -> Thu Oct 29 22:23:39 2020\n",
      "True\n",
      "updating ./ex-03-books.ipynb->../students/./py-11-f1.ipynb\n",
      "Mon Oct 11 14:28:09 2021 -> Thu Oct 29 22:23:39 2020\n",
      "True\n",
      "updating ./lecture-py-02-basic-python.ipynb->../students/./py-11-f1.ipynb\n",
      "Sun Sep 26 18:18:51 2021 -> Thu Oct 29 22:23:39 2020\n",
      "True\n",
      "updating ./lecture-py-08-null-join.ipynb->../students/./py-11-f1.ipynb\n",
      "Wed Oct 13 12:43:54 2021 -> Thu Oct 29 22:23:39 2020\n",
      "True\n",
      "updating ./lecture-py-07-groupby-apply-idxmax.ipynb->../students/./py-11-f1.ipynb\n",
      "Wed Oct 13 12:43:41 2021 -> Thu Oct 29 22:23:39 2020\n",
      "True\n",
      "updating ./py-12-TED.ipynb->../students/./py-11-f1.ipynb\n",
      "Mon Nov  9 11:57:31 2020 -> Fri Oct 30 12:57:47 2020\n",
      "True\n",
      "updating ./py-05-groupby.ipynb->../students/./py-11-f1.ipynb\n",
      "Wed Oct 13 12:43:41 2021 -> Thu Oct 29 22:23:39 2020\n",
      "True\n",
      "updating ./lecture-py-01-basics.ipynb->../students/./py-11-f1.ipynb\n",
      "Sun Sep 26 18:15:52 2021 -> Thu Oct 29 22:23:39 2020\n",
      "True\n",
      "updating ./py-04-pandas.ipynb->../students/./py-11-f1.ipynb\n",
      "Wed Oct 13 12:43:42 2021 -> Thu Oct 29 22:23:39 2020\n",
      "True\n",
      "updating ./py-07-multindex.ipynb->../students/./py-11-f1.ipynb\n",
      "Wed Oct 13 13:32:56 2021 -> Thu Oct 29 22:23:39 2020\n",
      "True\n"
     ]
    }
   ],
   "source": [
    "for ipath in notebooks:\n",
    "    dest_path = \"../students/\" + ipath\n",
    "    if not os.path.exists(dest_path) or os.path.getmtime(ipath) > os.path.getmtime(dest_path):\n",
    "    \n",
    "        print(f\"updating {ipath}->{destpath}\")\n",
    "        print(f\"{time.ctime(os.path.getmtime(ipath))} -> {time.ctime(os.path.getmtime(dest_path))}\")\n",
    "        print(os.path.getmtime(ipath) > os.path.getmtime(dest_path))\n",
    "        ntbk = nbf.read(ipath, nbf.NO_CONVERT)\n",
    "        if 'celltoolbar' in ntbk['metadata']:\n",
    "            del ntbk['metadata']['celltoolbar']\n",
    "\n",
    "        # print(ntbk)\n",
    "\n",
    "        for cell in ntbk.cells:\n",
    "            cell_tags = cell.get('metadata', {}).get('tags', [])\n",
    "            if cell['cell_type'] == 'code':\n",
    "                if 'show_output' not in cell_tags and 'outputs' in cell:\n",
    "                    cell['outputs'] = []\n",
    "                if 'show_output' not in cell_tags and 'show' not in cell_tags:\n",
    "                    cell['source'] = \"\"\n",
    "            else:\n",
    "                if 'hide' in cell_tags:\n",
    "                    cell['source'] = \"\"\n",
    "\n",
    "\n",
    "        nbf.write(ntbk, dest_path)"
   ]
  },
  {
   "cell_type": "markdown",
   "metadata": {},
   "source": [
    "Look for the tags of each code cell.\n",
    "*  **show** tag means that the content of the cell is shown, but not the result\n",
    "*  **show_output** tag means that the content and the result of the cell are shown"
   ]
  },
  {
   "cell_type": "code",
   "execution_count": 3,
   "metadata": {},
   "outputs": [
    {
     "data": {
      "text/plain": [
       "['./py-11-f1.ipynb',\n",
       " './lecture-py-04-functions-libraries.ipynb',\n",
       " './lecture-py-06-intro-to-pandas.ipynb',\n",
       " './ex-03-books.ipynb',\n",
       " './ex-02-RE-solution-full.ipynb',\n",
       " './ex-05-files.ipynb',\n",
       " './lecture-py-05-files.ipynb',\n",
       " './ex-03-Debug.ipynb',\n",
       " './ex-01-lists.ipynb',\n",
       " './py-09-Apache.ipynb',\n",
       " './ex-02-RE.ipynb',\n",
       " './lecture-py-02-basic-python.ipynb',\n",
       " './lecture-py-08-null-join.ipynb',\n",
       " './lecture-py-07-groupby-apply-idxmax.ipynb',\n",
       " './lecture-py-03-markdown.ipynb',\n",
       " './py-10-happiness.ipynb',\n",
       " './py-08-merging.ipynb',\n",
       " './py-13-employees.ipynb',\n",
       " './lecture-py-10-concat-comprehension.ipynb',\n",
       " './py-12-TED.ipynb',\n",
       " './py-05-groupby.ipynb',\n",
       " './lecture-py-01-basics.ipynb',\n",
       " './py-04-pandas.ipynb',\n",
       " './ex-02-dicts.ipynb',\n",
       " './py-14-fifa-solution.ipynb',\n",
       " './lecture-py-09-zip-datetime-str.ipynb',\n",
       " './py-07-multindex.ipynb']"
      ]
     },
     "execution_count": 3,
     "metadata": {},
     "output_type": "execute_result"
    }
   ],
   "source": [
    "notebooks"
   ]
  },
  {
   "cell_type": "code",
   "execution_count": null,
   "metadata": {},
   "outputs": [],
   "source": []
  }
 ],
 "metadata": {
  "kernelspec": {
   "display_name": "Python 3 (ipykernel)",
   "language": "python",
   "name": "python3"
  },
  "language_info": {
   "codemirror_mode": {
    "name": "ipython",
    "version": 3
   },
   "file_extension": ".py",
   "mimetype": "text/x-python",
   "name": "python",
   "nbconvert_exporter": "python",
   "pygments_lexer": "ipython3",
   "version": "3.9.7"
  }
 },
 "nbformat": 4,
 "nbformat_minor": 4
}
